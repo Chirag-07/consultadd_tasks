{
 "cells": [
  {
   "cell_type": "markdown",
   "metadata": {},
   "source": [
    "Write a function translate() that will translate a text into \"rövarspråket\" (Swedish for \"robber's language\"). That is, double every consonant and place an occurrence of \"o\" in between. For example, translate(\"this is fun\") should return the string \"tothohisos isos fofunon\"."
   ]
  },
  {
   "cell_type": "code",
   "execution_count": 6,
   "metadata": {},
   "outputs": [
    {
     "name": "stdout",
     "output_type": "stream",
     "text": [
      "tothohisos isos fofunon\n"
     ]
    }
   ],
   "source": [
    "# Your Solution here \n",
    "def translate(sentence):\n",
    "    vowels = ['a','e','i','o','u']\n",
    "    new_sentence_list = []\n",
    "    for word in sentence.split():\n",
    "        new_word = ''\n",
    "        for w in word:\n",
    "            if w not in vowels:\n",
    "                new_word += w + 'o' + w\n",
    "            else:\n",
    "                new_word += w\n",
    "        new_sentence_list.append(new_word)\n",
    "    return ' '.join(new_sentence_list)\n",
    "\n",
    "output = translate('this is fun')\n",
    "# output = translate('qwrt')\n",
    "\n",
    "print(output)"
   ]
  },
  {
   "cell_type": "markdown",
   "metadata": {},
   "source": [
    "Define a function sum() and a function multiply() that sums and multiplies (respectively) all the numbers in a list of numbers. For example, sum([1, 2, 3, 4]) should return 10, and multiply([1, 2, 3, 4]) should return 24"
   ]
  },
  {
   "cell_type": "code",
   "execution_count": 16,
   "metadata": {},
   "outputs": [
    {
     "name": "stdout",
     "output_type": "stream",
     "text": [
      "sum 15\n",
      "product 120\n"
     ]
    }
   ],
   "source": [
    "def sum(numbers_list):\n",
    "    total = 0\n",
    "    for n in numbers_list:\n",
    "        total += n\n",
    "    return total\n",
    "print('sum', sum([1,2,3,4,5]))\n",
    "\n",
    "def multiply(numbers_list):\n",
    "    total = 1\n",
    "    for n in numbers_list:\n",
    "        total *= n\n",
    "    return total\n",
    "\n",
    "print('product', multiply([1,2,3,4,5]))"
   ]
  },
  {
   "cell_type": "markdown",
   "metadata": {},
   "source": [
    "**Define a function reverse() that computes the reversal of a string. For example, reverse(\"I am testing\") should return the string \"gnitset ma I**"
   ]
  },
  {
   "cell_type": "code",
   "execution_count": 18,
   "metadata": {},
   "outputs": [
    {
     "name": "stdout",
     "output_type": "stream",
     "text": [
      "gnitset ma I\n"
     ]
    }
   ],
   "source": [
    "def reverse(s):\n",
    "    reversed_string = s[::-1]\n",
    "    return reversed_string\n",
    "print(reverse('I am testing'))"
   ]
  },
  {
   "cell_type": "markdown",
   "metadata": {},
   "source": [
    "**Define a function is_palindrome() that recognizes palindromes (i.e. words that look the same written backwards). For example, is_palindrome(\"radar\") should return True.**"
   ]
  },
  {
   "cell_type": "code",
   "execution_count": 29,
   "metadata": {},
   "outputs": [
    {
     "name": "stdout",
     "output_type": "stream",
     "text": [
      "True\n"
     ]
    }
   ],
   "source": [
    "def palindrome(s):\n",
    "    return s == s[::-1]\n",
    "print(palindrome('radar'))\n",
    "# print(palindrome('qwerty'))"
   ]
  },
  {
   "cell_type": "markdown",
   "metadata": {},
   "source": [
    "**Write a function is_member() that takes a value (i.e. a number, string, etc) x and a list of values a, and returns True if x is a member of a, False otherwise.**"
   ]
  },
  {
   "cell_type": "code",
   "execution_count": 37,
   "metadata": {},
   "outputs": [
    {
     "name": "stdout",
     "output_type": "stream",
     "text": [
      "True\n",
      "True\n"
     ]
    }
   ],
   "source": [
    "def is_member(x, a):\n",
    "    return x in a\n",
    "\n",
    "print(is_member(1, [1,2,3,4,5]))\n",
    "print(is_member('dog', ['man', 'bat', 'dog', 'cat']))"
   ]
  },
  {
   "cell_type": "markdown",
   "metadata": {},
   "source": [
    "**Define a function overlapping() that takes two lists and returns True if they have at least one member in common, False otherwise. You may use your is_member() function, or the in operator, but for the sake of the exercise, you should (also) write it using two nested for-loops.**"
   ]
  },
  {
   "cell_type": "code",
   "execution_count": 42,
   "metadata": {},
   "outputs": [
    {
     "name": "stdout",
     "output_type": "stream",
     "text": [
      "True\n",
      "True\n"
     ]
    }
   ],
   "source": [
    "def overlapping(list1, list2):\n",
    "    for w1 in list1:\n",
    "        for w2 in list2:\n",
    "            if w1 == w2:\n",
    "                return True\n",
    "\n",
    "    return False\n",
    "\n",
    "print(overlapping([1,2,3,4,5], [9,8,7,6,5]))\n",
    "print(overlapping(['man', 'bat', 'cat'],['horse', 'dog', 'man']))"
   ]
  },
  {
   "cell_type": "markdown",
   "metadata": {},
   "source": [
    "# *Define a procedure histogram() that takes a list of integers and prints a histogram to the screen. For example, histogram([4, 9, 7]) should print the following:*(click on next cell to see)\n"
   ]
  },
  {
   "cell_type": "markdown",
   "metadata": {},
   "source": [
    "\n",
    "****\n",
    "*********\n",
    "*******"
   ]
  },
  {
   "cell_type": "code",
   "execution_count": 6,
   "metadata": {},
   "outputs": [
    {
     "name": "stdout",
     "output_type": "stream",
     "text": [
      "****\n",
      "*********\n",
      "*******\n"
     ]
    }
   ],
   "source": [
    "def histogram(int_list):\n",
    "    for i in int_list:\n",
    "        print(i*'*')\n",
    "\n",
    "histogram([4,9,7])"
   ]
  },
  {
   "cell_type": "markdown",
   "metadata": {},
   "source": [
    "**Write a function char_freq() that takes a string and builds a frequency listing of the characters contained in it. Represent the frequency listing as a Python dictionary. Try it with something like char_freq(\"abbabcbdbabdbdbabababcbcbab\").**\n",
    "\n"
   ]
  },
  {
   "cell_type": "code",
   "execution_count": 88,
   "metadata": {},
   "outputs": [
    {
     "name": "stdout",
     "output_type": "stream",
     "text": [
      "char frequence:  {'a': 7, 'b': 14, 'c': 3, 'd': 3}\n"
     ]
    }
   ],
   "source": [
    "def char_freq(s):\n",
    "    freq_listing = {}\n",
    "    for i in s:\n",
    "        if i in freq_listing:\n",
    "            freq_listing[i] += 1\n",
    "        else:\n",
    "            freq_listing[i] = 1\n",
    "        \n",
    "    return freq_listing\n",
    "print('char frequence: ',char_freq(\"abbabcbdbabdbdbabababcbcbab\"))"
   ]
  },
  {
   "cell_type": "markdown",
   "metadata": {},
   "source": [
    "A certain childrens game involves starting with a word in a particular category. Each participant in turn says a word, but that word must begin with the final letter of the previous word. Once a word has been given, it cannot be repeated. If an opponent cannot give a word in the category, they fall out of the game. For example, with \"animals\" as the category,\n",
    "Child 1: dog \n",
    "Child 2: goldfish\n",
    "Child 1: hippopotamus\n",
    "Child 2: snake\n",
    "...\n",
    "Your task in this exercise is as follows: Take the following selection of 70 English Pokemon names (extracted from Wikipedia's list of Pokemon) and generate the/a sequence with the highest possible number of Pokemon names where the subsequent name starts with the final letter of the preceding name. No Pokemon name is to be repeated.\n",
    "**audino bagon baltoy banette bidoof braviary bronzor carracosta charmeleon\n",
    "cresselia croagunk darmanitan deino emboar emolga exeggcute gabite\n",
    "girafarig gulpin haxorus heatmor heatran ivysaur jellicent jumpluff kangaskhan\n",
    "kricketune landorus ledyba loudred lumineon lunatone machamp magnezone mamoswine\n",
    "nosepass petilil pidgeotto pikachu pinsir poliwrath poochyena porygon2\n",
    "porygonz registeel relicanth remoraid rufflet sableye scolipede scrafty seaking\n",
    "sealeo silcoon simisear snivy snorlax spoink starly tirtouga trapinch treecko\n",
    "tyrogue vigoroth vulpix wailord wartortle whismur wingull yamask**\n",
    "\n"
   ]
  },
  {
   "cell_type": "code",
   "execution_count": 87,
   "metadata": {},
   "outputs": [
    {
     "name": "stdout",
     "output_type": "stream",
     "text": [
      "['scolipede', 'emboar', 'registeel', 'landorus', 'sableye', 'emolga', 'audino']\n"
     ]
    }
   ],
   "source": [
    "import random\n",
    "\n",
    "pokemons = \"audino bagon baltoy banette bidoof braviary bronzor carracosta charmeleon cresselia croagunk darmanitan deino emboar emolga exeggcute gabite girafarig gulpin haxorus heatmor heatran ivysaur jellicent jumpluff kangaskhan kricketune landorus ledyba loudred lumineon lunatone machamp magnezone mamoswine nosepass petilil pidgeotto pikachu pinsir poliwrath poochyena porygon2 porygonz registeel relicanth remoraid rufflet sableye scolipede scrafty seaking sealeo silcoon simisear snivy snorlax spoink starly tirtouga trapinch treecko tyrogue vigoroth vulpix wailord wartortle whismur wingull yamask\"\n",
    "p_list = pokemons.split(' ')\n",
    "\n",
    "seq_list = []\n",
    "selected_word = ''\n",
    "last_letter = ''\n",
    "random_index = random.randint(0, 69)\n",
    "def create_seq(p_list):\n",
    "    i = 0\n",
    "    while i < len(p_list):\n",
    "        if len(seq_list):\n",
    "            for word in p_list:\n",
    "                if word[0] == last_letter:\n",
    "                    last_letter = word[-1]\n",
    "                    selected_word = word\n",
    "                    seq_list.append(word)\n",
    "                    break\n",
    "            else:\n",
    "                return seq_list\n",
    "        else:\n",
    "            last_letter = p_list[random_index][-1]\n",
    "            selected_word = p_list[random_index]\n",
    "            seq_list.append(p_list[random_index])\n",
    "        \n",
    "        i += 1\n",
    "\n",
    "        count = p_list.count(selected_word)\n",
    "        for _ in range(count):\n",
    "            p_list.remove(selected_word)\n",
    "            i = 0\n",
    "        \n",
    "        if not len(p_list):\n",
    "            return seq_list\n",
    "\n",
    "output = create_seq(p_list)\n",
    "print(output)\n",
    "\n"
   ]
  },
  {
   "cell_type": "markdown",
   "metadata": {},
   "source": [
    "**Write a program able to play the \"Guess the number\"-game, where the number to be guessed is randomly chosen between 1 and 20. (Source: http://inventwithpython.com) This is how it should work when run in a terminal:\n",
    "\n",
    "Hello! What is your name?\n",
    "Torbjörn\n",
    "Well, Torbjörn, I am thinking of a number between 1 and 20.\n",
    "Take a guess.\n",
    "10\n",
    "Your guess is too low.\n",
    "Take a guess.\n",
    "15\n",
    "Your guess is too low.\n",
    "Take a guess.\n",
    "18\n",
    "Good job, Torbjörn! You guessed my number in 3 guesses!***"
   ]
  },
  {
   "cell_type": "code",
   "execution_count": 33,
   "metadata": {},
   "outputs": [
    {
     "name": "stdout",
     "output_type": "stream",
     "text": [
      "Hello! What is your name?\n",
      "test\n",
      "Well, test, I am thinking of a number between 1 and 20.\n",
      "Take a guess.\n",
      "34\n",
      "Please guess between 1 and 20.\n",
      "Take a guess.\n",
      "23\n",
      "Please guess between 1 and 20.\n",
      "Take a guess.\n",
      "23\n",
      "Please guess between 1 and 20.\n",
      "Take a guess.\n",
      "23\n",
      "Please guess between 1 and 20.\n",
      "Take a guess.\n",
      "7\n",
      "Good job, test! You guessed my number in 5 guesses!\n"
     ]
    }
   ],
   "source": [
    "correct_guess = 7\n",
    "name = input('Hello! What is your name?\\n')\n",
    "guess = int(input(f'Well, {name}, I am thinking of a number between 1 and 20.\\nTake a guess.\\n'))\n",
    "guess_count = 1\n",
    "while guess != correct_guess:\n",
    "    if guess > 20 or guess < 1:\n",
    "        guess = int(input('Please guess between 1 and 20.\\nTake a guess.\\n'))\n",
    "        guess_count += 1\n",
    "    \n",
    "    elif guess > correct_guess:\n",
    "        guess_count += 1\n",
    "        print('Your guess is too high.')\n",
    "        guess = int(input('Take a guess.\\n'))\n",
    "    elif guess < correct_guess:\n",
    "        guess_count += 1\n",
    "        print('Your guess is too low.')\n",
    "        guess = int(input('Take a guess.\\n'))\n",
    "    \n",
    "print(f\"Good job, {name}! You guessed my number in {guess_count} guesses!\")"
   ]
  },
  {
   "cell_type": "markdown",
   "metadata": {},
   "source": [
    "***Write a program that maps a list of words into a list of integers representing the lengths of the correponding words.***\n"
   ]
  },
  {
   "cell_type": "code",
   "execution_count": 89,
   "metadata": {},
   "outputs": [
    {
     "name": "stdout",
     "output_type": "stream",
     "text": [
      "lenth of each word [3, 5, 3, 9]\n"
     ]
    }
   ],
   "source": [
    "'''\n",
    "created new list which contains lengths of each word\n",
    "'''\n",
    "def convert(word_list):\n",
    "    numbers_list = []\n",
    "    for word in word_list:\n",
    "        numbers_list.append(len(word))\n",
    "    return numbers_list\n",
    "print('lenth of each word', convert(['man', 'horse', 'dog', 'crocodile']))    \n",
    "    "
   ]
  },
  {
   "cell_type": "code",
   "execution_count": 90,
   "metadata": {},
   "outputs": [
    {
     "name": "stdout",
     "output_type": "stream",
     "text": [
      "dictionary with length of each word as key-value pair {'man': 3, 'horse': 5, 'dog': 3, 'crocodile': 9}\n"
     ]
    }
   ],
   "source": [
    "'''\n",
    "created dictionary to store key-value pair of word and their lengths\n",
    "'''\n",
    "def word_int_map(word_list):\n",
    "    word_len_map = {}\n",
    "    for word in word_list:\n",
    "        word_len_map[word] = len(word)\n",
    "    return word_len_map\n",
    "\n",
    "print('dictionary with length of each word as key-value pair', word_int_map(['man', 'horse', 'dog', 'crocodile']))"
   ]
  }
 ],
 "metadata": {
  "kernelspec": {
   "display_name": "Python 3",
   "language": "python",
   "name": "python3"
  },
  "language_info": {
   "codemirror_mode": {
    "name": "ipython",
    "version": 3
   },
   "file_extension": ".py",
   "mimetype": "text/x-python",
   "name": "python",
   "nbconvert_exporter": "python",
   "pygments_lexer": "ipython3",
   "version": "3.9.13"
  }
 },
 "nbformat": 4,
 "nbformat_minor": 2
}
